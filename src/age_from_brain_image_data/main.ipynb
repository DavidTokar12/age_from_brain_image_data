{
  "cells": [
    {
      "cell_type": "code",
      "execution_count": 11,
      "id": "e8745ff7",
      "metadata": {
        "id": "e8745ff7"
      },
      "outputs": [],
      "source": [
        "from pathlib import Path\n",
        "\n",
        "import joblib\n",
        "import os\n",
        "import numpy as np\n",
        "import pandas as pd\n",
        "import sklearn.gaussian_process.kernels as kernels\n",
        "\n",
        "from sklearn.base import BaseEstimator\n",
        "from sklearn.base import TransformerMixin\n",
        "from sklearn.decomposition import PCA\n",
        "from sklearn.ensemble import HistGradientBoostingRegressor\n",
        "from sklearn.ensemble import IsolationForest\n",
        "from sklearn.ensemble import RandomForestRegressor\n",
        "from sklearn.ensemble import StackingRegressor\n",
        "from sklearn.feature_selection import VarianceThreshold\n",
        "from sklearn.gaussian_process import GaussianProcessRegressor\n",
        "from sklearn.impute import KNNImputer\n",
        "from sklearn.linear_model import LinearRegression\n",
        "from sklearn.model_selection import GridSearchCV\n",
        "from sklearn.pipeline import Pipeline\n",
        "from sklearn.preprocessing import RobustScaler\n",
        "from sklearn.preprocessing import StandardScaler\n",
        "from sklearn.linear_model import BayesianRidge\n",
        "from sklearn.svm import NuSVR\n",
        "from joblib import Memory\n",
        "from sklearn.experimental import enable_iterative_imputer\n",
        "from sklearn.impute import IterativeImputer\n",
        "from sklearn.impute import SimpleImputer"
      ]
    },
    {
      "cell_type": "code",
      "source": [
        "from google.colab import drive\n",
        "drive.mount('/content/gdrive/')"
      ],
      "metadata": {
        "colab": {
          "base_uri": "https://localhost:8080/"
        },
        "id": "XyoNxh7100Bo",
        "outputId": "658cb986-9d8d-46d2-dcd8-0c6f298dcef3"
      },
      "id": "XyoNxh7100Bo",
      "execution_count": 12,
      "outputs": [
        {
          "output_type": "stream",
          "name": "stdout",
          "text": [
            "Drive already mounted at /content/gdrive/; to attempt to forcibly remount, call drive.mount(\"/content/gdrive/\", force_remount=True).\n"
          ]
        }
      ]
    },
    {
      "cell_type": "code",
      "execution_count": 13,
      "id": "78ab9db9",
      "metadata": {
        "id": "78ab9db9"
      },
      "outputs": [],
      "source": [
        "BASE_PATH = Path(\"/content/gdrive/MyDrive/data\")\n",
        "x_train = pd.read_csv(BASE_PATH / 'X_train.csv', skiprows=1, header=None).values[:, 1:]\n",
        "x_test = pd.read_csv(BASE_PATH / 'X_test.csv', skiprows=1, header=None).values[:, 1:]\n",
        "y_train = pd.read_csv(BASE_PATH / 'y_train.csv', skiprows=1, header=None).values[:, 1:].flatten()"
      ]
    },
    {
      "cell_type": "code",
      "execution_count": 14,
      "id": "a7687ba6",
      "metadata": {
        "id": "a7687ba6"
      },
      "outputs": [],
      "source": [
        "def remove_outliers(x_train, y_train, contamination=0.047, random_state=42):\n",
        "\n",
        "    x_train_df = pd.DataFrame(x_train).copy()\n",
        "    y_train_series = pd.Series(np.asarray(y_train).flatten(), index=x_train_df.index)\n",
        "\n",
        "    med = x_train_df.median(axis=0)\n",
        "    xtr_imp = x_train_df.fillna(med)\n",
        "\n",
        "    scaler = RobustScaler()\n",
        "    xtr_std = scaler.fit_transform(xtr_imp)\n",
        "\n",
        "    pca = PCA(n_components=2, random_state=random_state)\n",
        "    x_proj = pca.fit_transform(xtr_std)\n",
        "\n",
        "    iso = IsolationForest(contamination=contamination, random_state=random_state)\n",
        "    mask = iso.fit_predict(x_proj) == 1\n",
        "\n",
        "    outlier_pos = np.where(~mask)[0]\n",
        "    outlier_idx = x_train_df.index[~mask]\n",
        "    n_outliers = outlier_pos.size\n",
        "    print(f\"[OutlierRemoval] Removed {n_outliers} outliers\")\n",
        "    print(f\"[Outlier positions] {outlier_pos.tolist()}\")\n",
        "\n",
        "    if isinstance(x_train, np.ndarray):\n",
        "        return x_train[mask], y_train[mask]\n",
        "    else:\n",
        "        return x_train_df[mask], y_train_series[mask]"
      ]
    },
    {
      "cell_type": "code",
      "source": [
        "class NaNAwareScaler(BaseEstimator, TransformerMixin):\n",
        "    \"\"\"\n",
        "    Scaler that preserves NaN positions.\n",
        "    1. Remember NaN positions\n",
        "    2. Fill NaNs with median temporarily\n",
        "    3. Scale the data\n",
        "    4. Restore NaNs at original positions\n",
        "    \"\"\"\n",
        "\n",
        "    def fit(self, x, y=None):\n",
        "        x_df = pd.DataFrame(x)\n",
        "\n",
        "        self.median_ = x_df.median(axis=0)\n",
        "\n",
        "        x_filled = x_df.fillna(self.median_)\n",
        "\n",
        "        self.scaler_ = StandardScaler()\n",
        "        self.scaler_.fit(x_filled)\n",
        "\n",
        "        return self\n",
        "\n",
        "    def transform(self, x):\n",
        "        x_df = pd.DataFrame(x)\n",
        "\n",
        "        nan_mask = x_df.isna()\n",
        "\n",
        "        x_filled = x_df.fillna(self.median_)\n",
        "\n",
        "        x_scaled = self.scaler_.transform(x_filled)\n",
        "        x_scaled_df = pd.DataFrame(x_scaled, index=x_df.index, columns=x_df.columns)\n",
        "\n",
        "        x_scaled_df[nan_mask] = np.nan\n",
        "\n",
        "        return x_scaled_df.values"
      ],
      "metadata": {
        "id": "jXveDNpyRypS"
      },
      "id": "jXveDNpyRypS",
      "execution_count": 15,
      "outputs": []
    },
    {
      "cell_type": "code",
      "execution_count": 16,
      "id": "381fe6a3",
      "metadata": {
        "id": "381fe6a3"
      },
      "outputs": [],
      "source": [
        "class SpearmanSelector(BaseEstimator, TransformerMixin):\n",
        "    \"\"\"Select top K features by Spearman correlation with target.\"\"\"\n",
        "\n",
        "    def __init__(self, top_k=200):\n",
        "        self.top_k = top_k\n",
        "\n",
        "    def fit(self, x, y):\n",
        "        if y is None:\n",
        "            raise ValueError(\"SpearmanSelector requires y\")\n",
        "\n",
        "        x_df = pd.DataFrame(x) if not isinstance(x, pd.DataFrame) else x\n",
        "        y_series = pd.Series(np.asarray(y).flatten(), index=x_df.index)\n",
        "\n",
        "        spearman_corr = x_df.corrwith(y_series, method='spearman').abs()\n",
        "\n",
        "        n_keep = min(self.top_k, len(spearman_corr))\n",
        "        top_features = spearman_corr.nlargest(n_keep).index\n",
        "\n",
        "        self.selected_features_ = top_features.tolist()\n",
        "        self.n_features_in_ = x_df.shape[1]\n",
        "\n",
        "        print(f\"[SpearmanSelector] Selected {len(self.selected_features_)} features (from {self.n_features_in_})\")\n",
        "\n",
        "        return self\n",
        "\n",
        "    def transform(self, X):\n",
        "        x_df = pd.DataFrame(X) if not isinstance(X, pd.DataFrame) else X\n",
        "        return x_df.iloc[:, self.selected_features_].values\n",
        "\n",
        "\n",
        "class RFSelector(BaseEstimator, TransformerMixin):\n",
        "    \"\"\"Select top K features by RandomForest feature importance.\"\"\"\n",
        "\n",
        "    def __init__(self, top_k=200, n_estimators=1000, max_depth=None,\n",
        "                 min_samples_leaf=1, max_features='sqrt', random_state=42):\n",
        "        self.top_k = top_k\n",
        "        self.n_estimators = n_estimators\n",
        "        self.max_depth = max_depth\n",
        "        self.min_samples_leaf = min_samples_leaf\n",
        "        self.max_features = max_features\n",
        "        self.random_state = random_state\n",
        "\n",
        "    def fit(self, x, y):\n",
        "\n",
        "        if y is None:\n",
        "            raise ValueError(\"RFSelector requires y\")\n",
        "\n",
        "        x_df = pd.DataFrame(x) if not isinstance(x, pd.DataFrame) else x\n",
        "        y_series = pd.Series(np.asarray(y).flatten())\n",
        "\n",
        "        self.rf_ = RandomForestRegressor(\n",
        "            n_estimators=self.n_estimators,\n",
        "            max_depth=self.max_depth,\n",
        "            min_samples_leaf=self.min_samples_leaf,\n",
        "            max_features=self.max_features,\n",
        "            random_state=self.random_state,\n",
        "            n_jobs=-1,\n",
        "            verbose=0\n",
        "        )\n",
        "        self.rf_.fit(x_df, y_series)\n",
        "\n",
        "        importances = pd.Series(self.rf_.feature_importances_, index=x_df.columns)\n",
        "        importances = importances.sort_values(ascending=False)\n",
        "\n",
        "        n_keep = min(self.top_k, len(importances)) if self.top_k else len(importances)\n",
        "        self.selected_features_ = importances.head(n_keep).index.tolist()\n",
        "        self.n_features_in_ = x_df.shape[1]\n",
        "\n",
        "        print(f\"[RFSelector] Selected {len(self.selected_features_)} features (from {self.n_features_in_})\")\n",
        "\n",
        "        return self\n",
        "\n",
        "    def transform(self, x):\n",
        "        x_df = pd.DataFrame(x) if not isinstance(x, pd.DataFrame) else x\n",
        "        return x_df.iloc[:, self.selected_features_].values\n"
      ]
    },
    {
      "cell_type": "code",
      "execution_count": 17,
      "id": "668ce9c7",
      "metadata": {
        "id": "668ce9c7"
      },
      "outputs": [],
      "source": [
        "def build_feature_pipeline(random_state=42):\n",
        "    pipeline = Pipeline(\n",
        "        [\n",
        "            (\"variance\", VarianceThreshold()),\n",
        "            (\"scaler\", NaNAwareScaler()),\n",
        "            # (\"knn_imputer\", KNNImputer()),\n",
        "            (\"iterative_imputer\", IterativeImputer()),\n",
        "            (\"spearman\", SpearmanSelector()),\n",
        "            (\"rf_selector\", RFSelector(random_state=random_state)),\n",
        "        ]\n",
        "    )\n",
        "    return pipeline"
      ]
    },
    {
      "cell_type": "code",
      "execution_count": 18,
      "id": "98862227",
      "metadata": {
        "id": "98862227"
      },
      "outputs": [],
      "source": [
        "def build_model(random_state=42):\n",
        "\n",
        "    kernel = kernels.ConstantKernel(1.0, (1e-3, 1e3)) \\\n",
        "        * kernels.RationalQuadratic(length_scale=1.0, alpha=1.0) \\\n",
        "        + kernels.WhiteKernel(noise_level=1e-3, noise_level_bounds=(1e-6, 1e1))\n",
        "\n",
        "    gpr = GaussianProcessRegressor(\n",
        "        kernel=kernel,\n",
        "        random_state=random_state\n",
        "    )\n",
        "\n",
        "    model = StackingRegressor(\n",
        "        estimators=[\n",
        "            (\"svr\", NuSVR()),\n",
        "            (\"hgb\", HistGradientBoostingRegressor(random_state=random_state)),\n",
        "            (\"gp\", gpr)\n",
        "        ],\n",
        "        final_estimator=LinearRegression()\n",
        "    )\n",
        "\n",
        "    return model"
      ]
    },
    {
      "cell_type": "code",
      "execution_count": 19,
      "id": "f7484d3a",
      "metadata": {
        "colab": {
          "base_uri": "https://localhost:8080/"
        },
        "id": "f7484d3a",
        "outputId": "20567377-e99b-4d4a-f7c7-3df6c029a0c1"
      },
      "outputs": [
        {
          "output_type": "stream",
          "name": "stdout",
          "text": [
            "[OutlierRemoval] Removed 57 outliers\n",
            "[Outlier positions] [3, 10, 27, 60, 114, 156, 167, 203, 207, 213, 232, 329, 346, 380, 382, 423, 441, 442, 446, 459, 537, 575, 579, 611, 627, 674, 676, 681, 690, 694, 697, 733, 740, 763, 769, 805, 899, 906, 915, 933, 935, 951, 983, 1015, 1032, 1070, 1071, 1087, 1090, 1097, 1103, 1127, 1136, 1137, 1144, 1152, 1196]\n"
          ]
        }
      ],
      "source": [
        "x_train_clean, y_train_clean = remove_outliers(\n",
        "    x_train, y_train, contamination=0.047, random_state=42\n",
        ")"
      ]
    },
    {
      "cell_type": "code",
      "execution_count": 20,
      "id": "23aeb7b7",
      "metadata": {
        "colab": {
          "base_uri": "https://localhost:8080/",
          "height": 478
        },
        "id": "23aeb7b7",
        "outputId": "7cf50524-7792-4b09-f1ef-8167945a17cb"
      },
      "outputs": [
        {
          "output_type": "stream",
          "name": "stdout",
          "text": [
            "Fitting 3 folds for each of 1 candidates, totalling 3 fits\n"
          ]
        },
        {
          "output_type": "error",
          "ename": "TerminatedWorkerError",
          "evalue": "A worker process managed by the executor was unexpectedly terminated. This could be caused by a segmentation fault while calling the function or by an excessive memory usage causing the Operating System to kill the worker.\n\nThe exit codes of the workers are {SIGKILL(-9)}\nDetailed tracebacks of the workers should have been printed to stderr in the executor process if faulthandler was not disabled.",
          "traceback": [
            "\u001b[0;31m---------------------------------------------------------------------------\u001b[0m",
            "\u001b[0;31mTerminatedWorkerError\u001b[0m                     Traceback (most recent call last)",
            "\u001b[0;32m/tmp/ipython-input-919114371.py\u001b[0m in \u001b[0;36m<cell line: 0>\u001b[0;34m()\u001b[0m\n\u001b[1;32m     50\u001b[0m )\n\u001b[1;32m     51\u001b[0m \u001b[0;34m\u001b[0m\u001b[0m\n\u001b[0;32m---> 52\u001b[0;31m \u001b[0mgrid\u001b[0m\u001b[0;34m.\u001b[0m\u001b[0mfit\u001b[0m\u001b[0;34m(\u001b[0m\u001b[0mx_train_clean\u001b[0m\u001b[0;34m,\u001b[0m \u001b[0my_train_clean\u001b[0m\u001b[0;34m)\u001b[0m\u001b[0;34m\u001b[0m\u001b[0;34m\u001b[0m\u001b[0m\n\u001b[0m\u001b[1;32m     53\u001b[0m \u001b[0;34m\u001b[0m\u001b[0m\n\u001b[1;32m     54\u001b[0m \u001b[0mprint\u001b[0m\u001b[0;34m(\u001b[0m\u001b[0;34mf\"Best CV R² (mean across folds): {grid.best_score_:.4f}\"\u001b[0m\u001b[0;34m)\u001b[0m\u001b[0;34m\u001b[0m\u001b[0;34m\u001b[0m\u001b[0m\n",
            "\u001b[0;32m/usr/local/lib/python3.12/dist-packages/sklearn/base.py\u001b[0m in \u001b[0;36mwrapper\u001b[0;34m(estimator, *args, **kwargs)\u001b[0m\n\u001b[1;32m   1387\u001b[0m                 )\n\u001b[1;32m   1388\u001b[0m             ):\n\u001b[0;32m-> 1389\u001b[0;31m                 \u001b[0;32mreturn\u001b[0m \u001b[0mfit_method\u001b[0m\u001b[0;34m(\u001b[0m\u001b[0mestimator\u001b[0m\u001b[0;34m,\u001b[0m \u001b[0;34m*\u001b[0m\u001b[0margs\u001b[0m\u001b[0;34m,\u001b[0m \u001b[0;34m**\u001b[0m\u001b[0mkwargs\u001b[0m\u001b[0;34m)\u001b[0m\u001b[0;34m\u001b[0m\u001b[0;34m\u001b[0m\u001b[0m\n\u001b[0m\u001b[1;32m   1390\u001b[0m \u001b[0;34m\u001b[0m\u001b[0m\n\u001b[1;32m   1391\u001b[0m         \u001b[0;32mreturn\u001b[0m \u001b[0mwrapper\u001b[0m\u001b[0;34m\u001b[0m\u001b[0;34m\u001b[0m\u001b[0m\n",
            "\u001b[0;32m/usr/local/lib/python3.12/dist-packages/sklearn/model_selection/_search.py\u001b[0m in \u001b[0;36mfit\u001b[0;34m(self, X, y, **params)\u001b[0m\n\u001b[1;32m   1022\u001b[0m                 \u001b[0;32mreturn\u001b[0m \u001b[0mresults\u001b[0m\u001b[0;34m\u001b[0m\u001b[0;34m\u001b[0m\u001b[0m\n\u001b[1;32m   1023\u001b[0m \u001b[0;34m\u001b[0m\u001b[0m\n\u001b[0;32m-> 1024\u001b[0;31m             \u001b[0mself\u001b[0m\u001b[0;34m.\u001b[0m\u001b[0m_run_search\u001b[0m\u001b[0;34m(\u001b[0m\u001b[0mevaluate_candidates\u001b[0m\u001b[0;34m)\u001b[0m\u001b[0;34m\u001b[0m\u001b[0;34m\u001b[0m\u001b[0m\n\u001b[0m\u001b[1;32m   1025\u001b[0m \u001b[0;34m\u001b[0m\u001b[0m\n\u001b[1;32m   1026\u001b[0m             \u001b[0;31m# multimetric is determined here because in the case of a callable\u001b[0m\u001b[0;34m\u001b[0m\u001b[0;34m\u001b[0m\u001b[0m\n",
            "\u001b[0;32m/usr/local/lib/python3.12/dist-packages/sklearn/model_selection/_search.py\u001b[0m in \u001b[0;36m_run_search\u001b[0;34m(self, evaluate_candidates)\u001b[0m\n\u001b[1;32m   1569\u001b[0m     \u001b[0;32mdef\u001b[0m \u001b[0m_run_search\u001b[0m\u001b[0;34m(\u001b[0m\u001b[0mself\u001b[0m\u001b[0;34m,\u001b[0m \u001b[0mevaluate_candidates\u001b[0m\u001b[0;34m)\u001b[0m\u001b[0;34m:\u001b[0m\u001b[0;34m\u001b[0m\u001b[0;34m\u001b[0m\u001b[0m\n\u001b[1;32m   1570\u001b[0m         \u001b[0;34m\"\"\"Search all candidates in param_grid\"\"\"\u001b[0m\u001b[0;34m\u001b[0m\u001b[0;34m\u001b[0m\u001b[0m\n\u001b[0;32m-> 1571\u001b[0;31m         \u001b[0mevaluate_candidates\u001b[0m\u001b[0;34m(\u001b[0m\u001b[0mParameterGrid\u001b[0m\u001b[0;34m(\u001b[0m\u001b[0mself\u001b[0m\u001b[0;34m.\u001b[0m\u001b[0mparam_grid\u001b[0m\u001b[0;34m)\u001b[0m\u001b[0;34m)\u001b[0m\u001b[0;34m\u001b[0m\u001b[0;34m\u001b[0m\u001b[0m\n\u001b[0m\u001b[1;32m   1572\u001b[0m \u001b[0;34m\u001b[0m\u001b[0m\n\u001b[1;32m   1573\u001b[0m \u001b[0;34m\u001b[0m\u001b[0m\n",
            "\u001b[0;32m/usr/local/lib/python3.12/dist-packages/sklearn/model_selection/_search.py\u001b[0m in \u001b[0;36mevaluate_candidates\u001b[0;34m(candidate_params, cv, more_results)\u001b[0m\n\u001b[1;32m    968\u001b[0m                     )\n\u001b[1;32m    969\u001b[0m \u001b[0;34m\u001b[0m\u001b[0m\n\u001b[0;32m--> 970\u001b[0;31m                 out = parallel(\n\u001b[0m\u001b[1;32m    971\u001b[0m                     delayed(_fit_and_score)(\n\u001b[1;32m    972\u001b[0m                         \u001b[0mclone\u001b[0m\u001b[0;34m(\u001b[0m\u001b[0mbase_estimator\u001b[0m\u001b[0;34m)\u001b[0m\u001b[0;34m,\u001b[0m\u001b[0;34m\u001b[0m\u001b[0;34m\u001b[0m\u001b[0m\n",
            "\u001b[0;32m/usr/local/lib/python3.12/dist-packages/sklearn/utils/parallel.py\u001b[0m in \u001b[0;36m__call__\u001b[0;34m(self, iterable)\u001b[0m\n\u001b[1;32m     75\u001b[0m             \u001b[0;32mfor\u001b[0m \u001b[0mdelayed_func\u001b[0m\u001b[0;34m,\u001b[0m \u001b[0margs\u001b[0m\u001b[0;34m,\u001b[0m \u001b[0mkwargs\u001b[0m \u001b[0;32min\u001b[0m \u001b[0miterable\u001b[0m\u001b[0;34m\u001b[0m\u001b[0;34m\u001b[0m\u001b[0m\n\u001b[1;32m     76\u001b[0m         )\n\u001b[0;32m---> 77\u001b[0;31m         \u001b[0;32mreturn\u001b[0m \u001b[0msuper\u001b[0m\u001b[0;34m(\u001b[0m\u001b[0;34m)\u001b[0m\u001b[0;34m.\u001b[0m\u001b[0m__call__\u001b[0m\u001b[0;34m(\u001b[0m\u001b[0miterable_with_config\u001b[0m\u001b[0;34m)\u001b[0m\u001b[0;34m\u001b[0m\u001b[0;34m\u001b[0m\u001b[0m\n\u001b[0m\u001b[1;32m     78\u001b[0m \u001b[0;34m\u001b[0m\u001b[0m\n\u001b[1;32m     79\u001b[0m \u001b[0;34m\u001b[0m\u001b[0m\n",
            "\u001b[0;32m/usr/local/lib/python3.12/dist-packages/joblib/parallel.py\u001b[0m in \u001b[0;36m__call__\u001b[0;34m(self, iterable)\u001b[0m\n\u001b[1;32m   2070\u001b[0m         \u001b[0mnext\u001b[0m\u001b[0;34m(\u001b[0m\u001b[0moutput\u001b[0m\u001b[0;34m)\u001b[0m\u001b[0;34m\u001b[0m\u001b[0;34m\u001b[0m\u001b[0m\n\u001b[1;32m   2071\u001b[0m \u001b[0;34m\u001b[0m\u001b[0m\n\u001b[0;32m-> 2072\u001b[0;31m         \u001b[0;32mreturn\u001b[0m \u001b[0moutput\u001b[0m \u001b[0;32mif\u001b[0m \u001b[0mself\u001b[0m\u001b[0;34m.\u001b[0m\u001b[0mreturn_generator\u001b[0m \u001b[0;32melse\u001b[0m \u001b[0mlist\u001b[0m\u001b[0;34m(\u001b[0m\u001b[0moutput\u001b[0m\u001b[0;34m)\u001b[0m\u001b[0;34m\u001b[0m\u001b[0;34m\u001b[0m\u001b[0m\n\u001b[0m\u001b[1;32m   2073\u001b[0m \u001b[0;34m\u001b[0m\u001b[0m\n\u001b[1;32m   2074\u001b[0m     \u001b[0;32mdef\u001b[0m \u001b[0m__repr__\u001b[0m\u001b[0;34m(\u001b[0m\u001b[0mself\u001b[0m\u001b[0;34m)\u001b[0m\u001b[0;34m:\u001b[0m\u001b[0;34m\u001b[0m\u001b[0;34m\u001b[0m\u001b[0m\n",
            "\u001b[0;32m/usr/local/lib/python3.12/dist-packages/joblib/parallel.py\u001b[0m in \u001b[0;36m_get_outputs\u001b[0;34m(self, iterator, pre_dispatch)\u001b[0m\n\u001b[1;32m   1680\u001b[0m \u001b[0;34m\u001b[0m\u001b[0m\n\u001b[1;32m   1681\u001b[0m             \u001b[0;32mwith\u001b[0m \u001b[0mself\u001b[0m\u001b[0;34m.\u001b[0m\u001b[0m_backend\u001b[0m\u001b[0;34m.\u001b[0m\u001b[0mretrieval_context\u001b[0m\u001b[0;34m(\u001b[0m\u001b[0;34m)\u001b[0m\u001b[0;34m:\u001b[0m\u001b[0;34m\u001b[0m\u001b[0;34m\u001b[0m\u001b[0m\n\u001b[0;32m-> 1682\u001b[0;31m                 \u001b[0;32myield\u001b[0m \u001b[0;32mfrom\u001b[0m \u001b[0mself\u001b[0m\u001b[0;34m.\u001b[0m\u001b[0m_retrieve\u001b[0m\u001b[0;34m(\u001b[0m\u001b[0;34m)\u001b[0m\u001b[0;34m\u001b[0m\u001b[0;34m\u001b[0m\u001b[0m\n\u001b[0m\u001b[1;32m   1683\u001b[0m \u001b[0;34m\u001b[0m\u001b[0m\n\u001b[1;32m   1684\u001b[0m         \u001b[0;32mexcept\u001b[0m \u001b[0mGeneratorExit\u001b[0m\u001b[0;34m:\u001b[0m\u001b[0;34m\u001b[0m\u001b[0;34m\u001b[0m\u001b[0m\n",
            "\u001b[0;32m/usr/local/lib/python3.12/dist-packages/joblib/parallel.py\u001b[0m in \u001b[0;36m_retrieve\u001b[0;34m(self)\u001b[0m\n\u001b[1;32m   1782\u001b[0m             \u001b[0;31m# worker traceback.\u001b[0m\u001b[0;34m\u001b[0m\u001b[0;34m\u001b[0m\u001b[0m\n\u001b[1;32m   1783\u001b[0m             \u001b[0;32mif\u001b[0m \u001b[0mself\u001b[0m\u001b[0;34m.\u001b[0m\u001b[0m_aborting\u001b[0m\u001b[0;34m:\u001b[0m\u001b[0;34m\u001b[0m\u001b[0;34m\u001b[0m\u001b[0m\n\u001b[0;32m-> 1784\u001b[0;31m                 \u001b[0mself\u001b[0m\u001b[0;34m.\u001b[0m\u001b[0m_raise_error_fast\u001b[0m\u001b[0;34m(\u001b[0m\u001b[0;34m)\u001b[0m\u001b[0;34m\u001b[0m\u001b[0;34m\u001b[0m\u001b[0m\n\u001b[0m\u001b[1;32m   1785\u001b[0m                 \u001b[0;32mbreak\u001b[0m\u001b[0;34m\u001b[0m\u001b[0;34m\u001b[0m\u001b[0m\n\u001b[1;32m   1786\u001b[0m \u001b[0;34m\u001b[0m\u001b[0m\n",
            "\u001b[0;32m/usr/local/lib/python3.12/dist-packages/joblib/parallel.py\u001b[0m in \u001b[0;36m_raise_error_fast\u001b[0;34m(self)\u001b[0m\n\u001b[1;32m   1857\u001b[0m         \u001b[0;31m# called directly or if the generator is gc'ed.\u001b[0m\u001b[0;34m\u001b[0m\u001b[0;34m\u001b[0m\u001b[0m\n\u001b[1;32m   1858\u001b[0m         \u001b[0;32mif\u001b[0m \u001b[0merror_job\u001b[0m \u001b[0;32mis\u001b[0m \u001b[0;32mnot\u001b[0m \u001b[0;32mNone\u001b[0m\u001b[0;34m:\u001b[0m\u001b[0;34m\u001b[0m\u001b[0;34m\u001b[0m\u001b[0m\n\u001b[0;32m-> 1859\u001b[0;31m             \u001b[0merror_job\u001b[0m\u001b[0;34m.\u001b[0m\u001b[0mget_result\u001b[0m\u001b[0;34m(\u001b[0m\u001b[0mself\u001b[0m\u001b[0;34m.\u001b[0m\u001b[0mtimeout\u001b[0m\u001b[0;34m)\u001b[0m\u001b[0;34m\u001b[0m\u001b[0;34m\u001b[0m\u001b[0m\n\u001b[0m\u001b[1;32m   1860\u001b[0m \u001b[0;34m\u001b[0m\u001b[0m\n\u001b[1;32m   1861\u001b[0m     \u001b[0;32mdef\u001b[0m \u001b[0m_warn_exit_early\u001b[0m\u001b[0;34m(\u001b[0m\u001b[0mself\u001b[0m\u001b[0;34m)\u001b[0m\u001b[0;34m:\u001b[0m\u001b[0;34m\u001b[0m\u001b[0;34m\u001b[0m\u001b[0m\n",
            "\u001b[0;32m/usr/local/lib/python3.12/dist-packages/joblib/parallel.py\u001b[0m in \u001b[0;36mget_result\u001b[0;34m(self, timeout)\u001b[0m\n\u001b[1;32m    756\u001b[0m             \u001b[0;31m# callback thread, and is stored internally. It's just waiting to\u001b[0m\u001b[0;34m\u001b[0m\u001b[0;34m\u001b[0m\u001b[0m\n\u001b[1;32m    757\u001b[0m             \u001b[0;31m# be returned.\u001b[0m\u001b[0;34m\u001b[0m\u001b[0;34m\u001b[0m\u001b[0m\n\u001b[0;32m--> 758\u001b[0;31m             \u001b[0;32mreturn\u001b[0m \u001b[0mself\u001b[0m\u001b[0;34m.\u001b[0m\u001b[0m_return_or_raise\u001b[0m\u001b[0;34m(\u001b[0m\u001b[0;34m)\u001b[0m\u001b[0;34m\u001b[0m\u001b[0;34m\u001b[0m\u001b[0m\n\u001b[0m\u001b[1;32m    759\u001b[0m \u001b[0;34m\u001b[0m\u001b[0m\n\u001b[1;32m    760\u001b[0m         \u001b[0;31m# For other backends, the main thread needs to run the retrieval step.\u001b[0m\u001b[0;34m\u001b[0m\u001b[0;34m\u001b[0m\u001b[0m\n",
            "\u001b[0;32m/usr/local/lib/python3.12/dist-packages/joblib/parallel.py\u001b[0m in \u001b[0;36m_return_or_raise\u001b[0;34m(self)\u001b[0m\n\u001b[1;32m    771\u001b[0m         \u001b[0;32mtry\u001b[0m\u001b[0;34m:\u001b[0m\u001b[0;34m\u001b[0m\u001b[0;34m\u001b[0m\u001b[0m\n\u001b[1;32m    772\u001b[0m             \u001b[0;32mif\u001b[0m \u001b[0mself\u001b[0m\u001b[0;34m.\u001b[0m\u001b[0mstatus\u001b[0m \u001b[0;34m==\u001b[0m \u001b[0mTASK_ERROR\u001b[0m\u001b[0;34m:\u001b[0m\u001b[0;34m\u001b[0m\u001b[0;34m\u001b[0m\u001b[0m\n\u001b[0;32m--> 773\u001b[0;31m                 \u001b[0;32mraise\u001b[0m \u001b[0mself\u001b[0m\u001b[0;34m.\u001b[0m\u001b[0m_result\u001b[0m\u001b[0;34m\u001b[0m\u001b[0;34m\u001b[0m\u001b[0m\n\u001b[0m\u001b[1;32m    774\u001b[0m             \u001b[0;32mreturn\u001b[0m \u001b[0mself\u001b[0m\u001b[0;34m.\u001b[0m\u001b[0m_result\u001b[0m\u001b[0;34m\u001b[0m\u001b[0;34m\u001b[0m\u001b[0m\n\u001b[1;32m    775\u001b[0m         \u001b[0;32mfinally\u001b[0m\u001b[0;34m:\u001b[0m\u001b[0;34m\u001b[0m\u001b[0;34m\u001b[0m\u001b[0m\n",
            "\u001b[0;31mTerminatedWorkerError\u001b[0m: A worker process managed by the executor was unexpectedly terminated. This could be caused by a segmentation fault while calling the function or by an excessive memory usage causing the Operating System to kill the worker.\n\nThe exit codes of the workers are {SIGKILL(-9)}\nDetailed tracebacks of the workers should have been printed to stderr in the executor process if faulthandler was not disabled."
          ]
        }
      ],
      "source": [
        "feature_pipeline = build_feature_pipeline()\n",
        "model = build_model()\n",
        "\n",
        "full_pipeline = Pipeline(\n",
        "    [\n",
        "        (\"features\", feature_pipeline),\n",
        "        (\"model\", model),\n",
        "    ]\n",
        ")\n",
        "\n",
        "param_grid = {\n",
        "    # \"features__knn_imputer__n_neighbors\": [1],\n",
        "    # \"features__knn_imputer__weights\": [\"distance\"],\n",
        "\n",
        "    \"features__iterative_imputer__estimator\": [NuSVR(kernel='rbf', C=54, gamma=\"scale\")],\n",
        "    \"features__iterative_imputer__max_iter\": [20],\n",
        "    \"features__iterative_imputer__initial_strategy\": [\"median\"],\n",
        "\n",
        "    \"features__spearman__top_k\": [202],\n",
        "    \"features__rf_selector__top_k\": [173],\n",
        "    \"features__rf_selector__n_estimators\": [1000],\n",
        "    \"features__rf_selector__max_depth\": [None],\n",
        "    \"features__rf_selector__min_samples_leaf\": [1],\n",
        "    \"features__rf_selector__max_features\": [\"sqrt\"],\n",
        "\n",
        "    # Model params - NuSVR\n",
        "    \"model__svr__C\": [55],\n",
        "    \"model__svr__gamma\": [\"scale\"],\n",
        "\n",
        "    # Model params - HistGradientBoosting\n",
        "    # \"model__hgb__learning_rate\": [0.1],\n",
        "    # \"model__hgb__max_iter\": [100],\n",
        "    # \"model__hgb__max_depth\": [None],\n",
        "    # \"model__hgb__min_samples_leaf\": [20],\n",
        "\n",
        "    # Model params - GaussianProcess\n",
        "    \"model__gp__alpha\": [0.0],\n",
        "    \"model__gp__normalize_y\": [True],\n",
        "    \"model__gp__n_restarts_optimizer\": [8],\n",
        "}\n",
        "\n",
        "grid = GridSearchCV(\n",
        "    estimator=full_pipeline,\n",
        "    param_grid=param_grid,\n",
        "    cv=3,\n",
        "    scoring=\"r2\",\n",
        "    n_jobs=-1,\n",
        "    verbose=100,\n",
        "    refit=True,\n",
        ")\n",
        "\n",
        "grid.fit(x_train_clean, y_train_clean)\n",
        "\n",
        "print(f\"Best CV R² (mean across folds): {grid.best_score_:.4f}\")\n",
        "print(\"Best params:\", grid.best_params_)"
      ]
    },
    {
      "cell_type": "code",
      "execution_count": null,
      "id": "ca259744",
      "metadata": {
        "id": "ca259744"
      },
      "outputs": [],
      "source": [
        "y_test_pred = grid.predict(x_train_clean)"
      ]
    },
    {
      "cell_type": "code",
      "execution_count": null,
      "id": "1cfdc65f",
      "metadata": {
        "id": "1cfdc65f"
      },
      "outputs": [],
      "source": []
    }
  ],
  "metadata": {
    "kernelspec": {
      "display_name": "Python 3",
      "name": "python3"
    },
    "language_info": {
      "codemirror_mode": {
        "name": "ipython",
        "version": 3
      },
      "file_extension": ".py",
      "mimetype": "text/x-python",
      "name": "python",
      "nbconvert_exporter": "python",
      "pygments_lexer": "ipython3",
      "version": "3.12.11"
    },
    "colab": {
      "provenance": [],
      "machine_shape": "hm"
    }
  },
  "nbformat": 4,
  "nbformat_minor": 5
}